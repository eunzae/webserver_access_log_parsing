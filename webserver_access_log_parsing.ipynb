{
 "cells": [
  {
   "cell_type": "code",
   "execution_count": 1,
   "id": "aeea91a4",
   "metadata": {},
   "outputs": [
    {
     "name": "stdout",
     "output_type": "stream",
     "text": [
      "Requirement already satisfied: pandas in /Library/Frameworks/Python.framework/Versions/3.10/lib/python3.10/site-packages (1.3.5)\n",
      "Requirement already satisfied: pytz>=2017.3 in /Library/Frameworks/Python.framework/Versions/3.10/lib/python3.10/site-packages (from pandas) (2021.3)\n",
      "Requirement already satisfied: python-dateutil>=2.7.3 in /Library/Frameworks/Python.framework/Versions/3.10/lib/python3.10/site-packages (from pandas) (2.8.2)\n",
      "Requirement already satisfied: numpy>=1.21.0 in /Library/Frameworks/Python.framework/Versions/3.10/lib/python3.10/site-packages (from pandas) (1.21.4)\n",
      "Requirement already satisfied: six>=1.5 in /Library/Frameworks/Python.framework/Versions/3.10/lib/python3.10/site-packages (from python-dateutil>=2.7.3->pandas) (1.16.0)\n",
      "Note: you may need to restart the kernel to use updated packages.\n"
     ]
    }
   ],
   "source": [
    "pip install pandas"
   ]
  },
  {
   "cell_type": "code",
   "execution_count": 18,
   "id": "86112dab",
   "metadata": {},
   "outputs": [],
   "source": [
    "import pandas as pd\n",
    "import re"
   ]
  },
  {
   "cell_type": "code",
   "execution_count": 19,
   "id": "67a37f21",
   "metadata": {},
   "outputs": [],
   "source": [
    "# 로그를 읽어와서 각 행에 매치하도록 정규식 작성\n",
    "\n",
    "pattern = re.compile('(^\\S+) - - \\[(.*)] \"(\\S+ \\S+) \\S+\" (\\S+) (\\S+)')\n",
    "\n",
    "\n",
    "# 데이터 예시: 4.36.149.75 - - [22/Jan/2019:04:04:41 +0330] \"GET /product/29585/80570 HTTP/1.1\" 200 41478 \"-\" \"Mozilla/5.0 (compatible; AhrefsBot/6.1; +http://ahrefs.com/robot/)\" \"-\""
   ]
  },
  {
   "cell_type": "code",
   "execution_count": 20,
   "id": "d33bb7c7",
   "metadata": {},
   "outputs": [],
   "source": [
    "# 경로 설정\n",
    "\n",
    "input_log_path = r\"/Users/shin-eunjae/Desktop/code/webserver_access_log_parsing/data/access.log\"\n",
    "\n",
    "# 예제데이터 다운로드 주소: https://www.kaggle.com/eliasdabbas/web-server-access-logs﻿"
   ]
  },
  {
   "cell_type": "code",
   "execution_count": 21,
   "id": "aaae68be",
   "metadata": {},
   "outputs": [],
   "source": [
    "# 정규 표현으로 파싱하는 함수(일치하지 않는 행은 그냥 버린다)\n",
    "\n",
    "def parse_access_log(path):\n",
    "    for line in open(path):\n",
    "        for m in pattern.finditer(line):\n",
    "            yield m.group(1,2,3,4,5)"
   ]
  },
  {
   "cell_type": "code",
   "execution_count": 22,
   "id": "895994a5",
   "metadata": {},
   "outputs": [],
   "source": [
    "# 데이터프레임에 변수 보관하기\n",
    "\n",
    "columns = ['IP', 'time', 'request', 'status', 'bytes']\n",
    "data = parse_access_log(log_path)\n",
    "df = pd.DataFrame(data, columns=columns)"
   ]
  },
  {
   "cell_type": "code",
   "execution_count": 23,
   "id": "c27eb9e4",
   "metadata": {},
   "outputs": [],
   "source": [
    "# 'time'칼럼을 덮어쓴다(타임 존 삭제)\n",
    "\n",
    "df.time = pd.to_datetime(df.time, format='%d/%b/%Y:%X', exact=False)"
   ]
  },
  {
   "cell_type": "code",
   "execution_count": 24,
   "id": "d4a9d261",
   "metadata": {},
   "outputs": [
    {
     "data": {
      "text/html": [
       "<div>\n",
       "<style scoped>\n",
       "    .dataframe tbody tr th:only-of-type {\n",
       "        vertical-align: middle;\n",
       "    }\n",
       "\n",
       "    .dataframe tbody tr th {\n",
       "        vertical-align: top;\n",
       "    }\n",
       "\n",
       "    .dataframe thead th {\n",
       "        text-align: right;\n",
       "    }\n",
       "</style>\n",
       "<table border=\"1\" class=\"dataframe\">\n",
       "  <thead>\n",
       "    <tr style=\"text-align: right;\">\n",
       "      <th></th>\n",
       "      <th>IP</th>\n",
       "      <th>time</th>\n",
       "      <th>request</th>\n",
       "      <th>status</th>\n",
       "      <th>bytes</th>\n",
       "    </tr>\n",
       "  </thead>\n",
       "  <tbody>\n",
       "    <tr>\n",
       "      <th>0</th>\n",
       "      <td>54.36.149.41</td>\n",
       "      <td>2019-01-22 03:56:14</td>\n",
       "      <td>GET /filter/27|13%20%D9%85%DA%AF%D8%A7%D9%BE%D...</td>\n",
       "      <td>200</td>\n",
       "      <td>30577</td>\n",
       "    </tr>\n",
       "    <tr>\n",
       "      <th>1</th>\n",
       "      <td>31.56.96.51</td>\n",
       "      <td>2019-01-22 03:56:16</td>\n",
       "      <td>GET /image/60844/productModel/200x200</td>\n",
       "      <td>200</td>\n",
       "      <td>5667</td>\n",
       "    </tr>\n",
       "    <tr>\n",
       "      <th>2</th>\n",
       "      <td>31.56.96.51</td>\n",
       "      <td>2019-01-22 03:56:16</td>\n",
       "      <td>GET /image/61474/productModel/200x200</td>\n",
       "      <td>200</td>\n",
       "      <td>5379</td>\n",
       "    </tr>\n",
       "    <tr>\n",
       "      <th>3</th>\n",
       "      <td>40.77.167.129</td>\n",
       "      <td>2019-01-22 03:56:17</td>\n",
       "      <td>GET /image/14925/productModel/100x100</td>\n",
       "      <td>200</td>\n",
       "      <td>1696</td>\n",
       "    </tr>\n",
       "    <tr>\n",
       "      <th>4</th>\n",
       "      <td>91.99.72.15</td>\n",
       "      <td>2019-01-22 03:56:17</td>\n",
       "      <td>GET /product/31893/62100/%D8%B3%D8%B4%D9%88%D8...</td>\n",
       "      <td>200</td>\n",
       "      <td>41483</td>\n",
       "    </tr>\n",
       "  </tbody>\n",
       "</table>\n",
       "</div>"
      ],
      "text/plain": [
       "              IP                time  \\\n",
       "0   54.36.149.41 2019-01-22 03:56:14   \n",
       "1    31.56.96.51 2019-01-22 03:56:16   \n",
       "2    31.56.96.51 2019-01-22 03:56:16   \n",
       "3  40.77.167.129 2019-01-22 03:56:17   \n",
       "4    91.99.72.15 2019-01-22 03:56:17   \n",
       "\n",
       "                                             request status  bytes  \n",
       "0  GET /filter/27|13%20%D9%85%DA%AF%D8%A7%D9%BE%D...    200  30577  \n",
       "1              GET /image/60844/productModel/200x200    200   5667  \n",
       "2              GET /image/61474/productModel/200x200    200   5379  \n",
       "3              GET /image/14925/productModel/100x100    200   1696  \n",
       "4  GET /product/31893/62100/%D8%B3%D8%B4%D9%88%D8...    200  41483  "
      ]
     },
     "execution_count": 24,
     "metadata": {},
     "output_type": "execute_result"
    }
   ],
   "source": [
    "# 데이터 확인\n",
    "\n",
    "df.head()"
   ]
  },
  {
   "cell_type": "code",
   "execution_count": 25,
   "id": "e47d45b8",
   "metadata": {},
   "outputs": [],
   "source": [
    "# csv 파일로 보관\n",
    "\n",
    "output_log_path = r\"/Users/shin-eunjae/Desktop/code/webserver_access_log_parsing/data/\"\n",
    "df.to_csv(output_log_path + 'access_log.csv', index=False)"
   ]
  }
 ],
 "metadata": {
  "kernelspec": {
   "display_name": "Python 3 (ipykernel)",
   "language": "python",
   "name": "python3"
  },
  "language_info": {
   "codemirror_mode": {
    "name": "ipython",
    "version": 3
   },
   "file_extension": ".py",
   "mimetype": "text/x-python",
   "name": "python",
   "nbconvert_exporter": "python",
   "pygments_lexer": "ipython3",
   "version": "3.10.1"
  }
 },
 "nbformat": 4,
 "nbformat_minor": 5
}
